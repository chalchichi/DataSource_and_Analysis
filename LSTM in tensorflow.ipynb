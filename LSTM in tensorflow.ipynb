{
 "cells": [
  {
   "cell_type": "code",
   "execution_count": 43,
   "metadata": {},
   "outputs": [],
   "source": [
    "import tensorflow as tf\n",
    "from tensorflow.contrib import rnn\n",
    "import matplotlib.pyplot as plt\n",
    "import pandas as pd\n",
    "import numpy as np\n",
    "tf.reset_default_graph()"
   ]
  },
  {
   "cell_type": "code",
   "execution_count": 44,
   "metadata": {},
   "outputs": [],
   "source": [
    "data_frame = pd.read_csv(\"/home/oh/data/spy.csv\")"
   ]
  },
  {
   "cell_type": "code",
   "execution_count": 45,
   "metadata": {},
   "outputs": [],
   "source": [
    "timesteps = seq_length = 1\n",
    "data_dim = 13\n",
    "hidden_dim = 4\n",
    "output_dim = 1\n",
    "learing_rate = 0.0005\n",
    "iterations = 50000"
   ]
  },
  {
   "cell_type": "code",
   "execution_count": 46,
   "metadata": {},
   "outputs": [],
   "source": [
    "data_frame[\"screen\"] = data_frame[\"screen\"]/1000\n",
    "data_frame[\"Y\"] = data_frame[\"Y\"]/1000000\n",
    "data_frame[\"seat\"] = data_frame[\"seat\"]/10000000"
   ]
  },
  {
   "cell_type": "code",
   "execution_count": 47,
   "metadata": {},
   "outputs": [],
   "source": [
    "x = data_frame.values\n",
    "y = data_frame[\"Y\"].values  \n"
   ]
  },
  {
   "cell_type": "code",
   "execution_count": 48,
   "metadata": {},
   "outputs": [],
   "source": [
    "dataX = []\n",
    "dataY = []"
   ]
  },
  {
   "cell_type": "code",
   "execution_count": 49,
   "metadata": {},
   "outputs": [],
   "source": [
    "for i in range(0, len(y) - seq_length):\n",
    "    _x = np.copy(x[i:i + seq_length + 1])\n",
    "    _x[timesteps-2][data_dim-1] = 0\n",
    "    _x[timesteps-1][data_dim-1] = 0\n",
    "    _x[timesteps][data_dim-1] = 0\n",
    "    _y = [y[i + seq_length]]\n",
    "    dataX.append(_x)\n",
    "    dataY.append(_y)"
   ]
  },
  {
   "cell_type": "code",
   "execution_count": 50,
   "metadata": {},
   "outputs": [],
   "source": [
    "train_size = int(len(dataY) * 0.575)\n",
    "test_size = len(dataY) - train_size \n",
    "\n",
    "trainX = np.array(dataX[:train_size])\n",
    "testX = np.array(dataX[train_size : ])\n",
    "\n",
    "trainY = np.array(dataY[:train_size])\n",
    "testY = np.array(dataY[train_size : ])\n"
   ]
  },
  {
   "cell_type": "code",
   "execution_count": 51,
   "metadata": {
    "scrolled": true
   },
   "outputs": [
    {
     "name": "stdout",
     "output_type": "stream",
     "text": [
      "[step: 5000] loss: 2.87370403384557e-05\n",
      "[step: 10000] loss: 9.92188597592758e-06\n",
      "[step: 15000] loss: 6.869997378089465e-06\n",
      "[step: 20000] loss: 5.556919859373011e-06\n",
      "[step: 25000] loss: 4.912109943688847e-06\n",
      "[step: 30000] loss: 4.452162556844996e-06\n",
      "[step: 35000] loss: 4.1043799683393445e-06\n",
      "[step: 40000] loss: 3.833348728221608e-06\n",
      "[step: 45000] loss: 3.6959206681785872e-06\n",
      "[step: 50000] loss: 3.6178723803459434e-06\n"
     ]
    }
   ],
   "source": [
    "X = tf.placeholder(tf.float32, [None, seq_length+1, data_dim])\n",
    "Y = tf.placeholder(tf.float32, [None, 1])\n",
    "\n",
    "def lstm_cell(): \n",
    "    cell = rnn.BasicLSTMCell(hidden_dim, state_is_tuple=True) \n",
    "    return cell \n",
    "\n",
    "\n",
    "cell = rnn.BasicLSTMCell(num_units=hidden_dim, state_is_tuple=True)\n",
    "multi_cells = rnn.MultiRNNCell([lstm_cell() for _ in range(5)], state_is_tuple=True)\n",
    "\n",
    "\n",
    "outputs, _states = tf.nn.dynamic_rnn(multi_cells, X, dtype=tf.float32)\n",
    "\n",
    "Y_pred = tf.contrib.layers.fully_connected(outputs[:, -1], output_dim, activation_fn=None)\n",
    "\n",
    "loss = tf.reduce_sum(tf.square(Y_pred - Y))  \n",
    "train = tf.train.RMSPropOptimizer(learing_rate).minimize(loss)\n",
    "\n",
    "sess = tf.Session()\n",
    "init = tf.global_variables_initializer()\n",
    "sess.run(init)\n",
    "\n",
    "for i in range(iterations):\n",
    "    _  , cost = sess.run([train ,loss], feed_dict={X: trainX, Y: trainY})\n",
    "    if (i+1) % (iterations/10) == 0:\n",
    "        print(\"[step: {}] loss: {}\".format(i+1, cost))\n"
   ]
  },
  {
   "cell_type": "code",
   "execution_count": 52,
   "metadata": {},
   "outputs": [],
   "source": [
    "train_predict = sess.run(Y_pred, feed_dict={X: trainX})\n",
    "test_predict = sess.run(Y_pred, feed_dict={X: testX})"
   ]
  },
  {
   "cell_type": "code",
   "execution_count": 53,
   "metadata": {},
   "outputs": [
    {
     "data": {
      "text/plain": [
       "array([[ 2.4893135e-04],\n",
       "       [ 8.6676888e-04],\n",
       "       [ 1.1728425e-03],\n",
       "       [ 1.6960781e-04],\n",
       "       [ 3.7280377e-04],\n",
       "       [ 2.7086399e-04],\n",
       "       [ 7.0361421e-05],\n",
       "       [ 1.5681144e-04],\n",
       "       [ 2.8990395e-04],\n",
       "       [ 2.3887306e-04],\n",
       "       [-1.3585575e-04],\n",
       "       [-2.3088418e-05],\n",
       "       [-5.8641657e-05],\n",
       "       [-1.4171936e-04],\n",
       "       [-1.0760594e-04],\n",
       "       [-6.9381669e-05],\n",
       "       [-1.0225829e-04]], dtype=float32)"
      ]
     },
     "execution_count": 53,
     "metadata": {},
     "output_type": "execute_result"
    }
   ],
   "source": [
    "test_predict"
   ]
  },
  {
   "cell_type": "code",
   "execution_count": 54,
   "metadata": {},
   "outputs": [],
   "source": [
    "dataframe1=pd.DataFrame(test_predict)\n",
    "dataframe2=pd.DataFrame(train_predict)"
   ]
  },
  {
   "cell_type": "code",
   "execution_count": 55,
   "metadata": {},
   "outputs": [],
   "source": [
    "dataframe1.to_csv(\"/home/oh/train_your wedding.csv\",header=False,index=False)"
   ]
  },
  {
   "cell_type": "code",
   "execution_count": 56,
   "metadata": {},
   "outputs": [],
   "source": [
    "dataframe2.to_csv(\"/home/oh/pred_your wedding.csv\",header=False,index=False)"
   ]
  },
  {
   "cell_type": "code",
   "execution_count": 57,
   "metadata": {},
   "outputs": [
    {
     "data": {
      "text/plain": [
       "array([[0.01898882],\n",
       "       [0.02658086],\n",
       "       [0.04178432],\n",
       "       [0.03593073],\n",
       "       [0.01317515],\n",
       "       [0.01216906],\n",
       "       [0.00899482],\n",
       "       [0.00571517],\n",
       "       [0.0071622 ],\n",
       "       [0.01018946],\n",
       "       [0.01100009],\n",
       "       [0.00357796],\n",
       "       [0.00364487],\n",
       "       [0.00292498],\n",
       "       [0.00166951],\n",
       "       [0.00214229],\n",
       "       [0.0032597 ],\n",
       "       [0.00317747],\n",
       "       [0.00072695],\n",
       "       [0.00053563],\n",
       "       [0.00036073],\n",
       "       [0.00014764]], dtype=float32)"
      ]
     },
     "execution_count": 57,
     "metadata": {},
     "output_type": "execute_result"
    }
   ],
   "source": [
    "train_predict"
   ]
  },
  {
   "cell_type": "code",
   "execution_count": null,
   "metadata": {},
   "outputs": [],
   "source": []
  }
 ],
 "metadata": {
  "kernelspec": {
   "display_name": "Python 3",
   "language": "python",
   "name": "python3"
  },
  "language_info": {
   "codemirror_mode": {
    "name": "ipython",
    "version": 3
   },
   "file_extension": ".py",
   "mimetype": "text/x-python",
   "name": "python",
   "nbconvert_exporter": "python",
   "pygments_lexer": "ipython3",
   "version": "3.5.2"
  }
 },
 "nbformat": 4,
 "nbformat_minor": 2
}
